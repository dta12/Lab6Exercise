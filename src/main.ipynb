{
 "metadata": {
  "language_info": {
   "codemirror_mode": {
    "name": "ipython",
    "version": 3
   },
   "file_extension": ".py",
   "mimetype": "text/x-python",
   "name": "python",
   "nbconvert_exporter": "python",
   "pygments_lexer": "ipython3",
   "version": "3.8.5-final"
  },
  "orig_nbformat": 2,
  "kernelspec": {
   "name": "Python 3.8.5 64-bit",
   "display_name": "Python 3.8.5 64-bit",
   "metadata": {
    "interpreter": {
     "hash": "767d51c1340bd893661ea55ea3124f6de3c7a262a8b4abca0554b478b1e2ff90"
    }
   }
  }
 },
 "nbformat": 4,
 "nbformat_minor": 2,
 "cells": [
  {
   "cell_type": "code",
   "execution_count": 2,
   "metadata": {
    "tags": []
   },
   "outputs": [
    {
     "output_type": "stream",
     "name": "stdout",
     "text": "the name you entered:  dastan\nthe number of letters in your name you entered:  6\nyour name score is:  9.83\n"
    }
   ],
   "source": [
    "def splitStr(any_String):\n",
    "    return [char for char in any_String]\n",
    "\n",
    "\n",
    "def roundScore(score):\n",
    "    return round(score, 2)\n",
    "\n",
    "\n",
    "alphabet = \"abcdefghijklmnopqrstuvwxyz\"\n",
    "alphabetList = splitStr(alphabet)\n",
    "name = str(input(\"enter your name: \"))\n",
    "print(\"the name you entered: \", name)\n",
    "name.lower()\n",
    "name.strip()\n",
    "name.replace(' ', '')\n",
    "nameLetters = splitStr(name)\n",
    "nameLength = int(input(\"how many letters are in your name? \"))\n",
    "sumScore = 0\n",
    "for letter in nameLetters:\n",
    "    sumScore = sumScore + (int(alphabetList.index(letter))+1)\n",
    "\n",
    "\n",
    "avg = sumScore/nameLength\n",
    "print(\"the number of letters in your name you entered: \", nameLength)\n",
    "print(\"your name score is: \", roundScore(avg))\n"
   ]
  },
  {
   "cell_type": "code",
   "execution_count": null,
   "metadata": {},
   "outputs": [],
   "source": []
  }
 ]
}
